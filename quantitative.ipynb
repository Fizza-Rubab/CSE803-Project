{
 "cells": [
  {
   "cell_type": "code",
   "execution_count": 62,
   "metadata": {},
   "outputs": [
    {
     "name": "stdout",
     "output_type": "stream",
     "text": [
      "bedroom Naive 0.01359055150652636\n",
      "bedroom Priors 0.018427654420737495\n",
      "bedroom Combined 0.011238046050507678\n",
      "lady Naive 0.013559931046240203\n",
      "lady Priors 0.00899755616025568\n",
      "lady Combined 0.02049585213508189\n",
      "tv Naive 0.012711691487645435\n",
      "tv Priors 0.005145790024032055\n",
      "tv Combined 0.03306870511474107\n",
      "hotel Naive 0.012605624915801228\n",
      "hotel Priors 0.01299710288071741\n",
      "hotel Combined 0.027281971564169016\n",
      "kitchen Naive 0.013623090886851744\n",
      "kitchen Priors 0.010234495328611256\n",
      "kitchen Combined 0.013343790215568793\n"
     ]
    }
   ],
   "source": [
    "import cv2\n",
    "import os\n",
    "import numpy as np\n",
    "from skimage.metrics import peak_signal_noise_ratio\n",
    "\n",
    "def compute_ncc(img1, img2):\n",
    "    \"\"\"\n",
    "    Computes the normalized cross-correlation (NCC) between two images.\n",
    "    Assumes both images are float arrays in the range [0, 1].\n",
    "    \"\"\"\n",
    "    mean1 = np.mean(img1)\n",
    "    mean2 = np.mean(img2)\n",
    "    \n",
    "    numerator = np.sum((img1 - mean1) * (img2 - mean2))\n",
    "    denominator = np.sqrt(np.sum((img1 - mean1)**2) * np.sum((img2 - mean2)**2))\n",
    "    \n",
    "    if denominator == 0:\n",
    "        return 0  # Avoid division by zero\n",
    "    \n",
    "    return numerator / denominator\n",
    "\n",
    "def compute_psnr(img1, img2):\n",
    "    \"\"\"\n",
    "    Computes the Peak Signal-to-Noise Ratio (PSNR) between two images.\n",
    "    Assumes both images are float arrays in the range [0, 1].\n",
    "    \"\"\"\n",
    "    return peak_signal_noise_ratio(img1, img2, data_range=1.0)\n",
    "\n",
    "def compute_mse(img1, img2):\n",
    "    return ((img1-img2)**2).mean()\n",
    "\n",
    "main_path=\"results/IIW\"\n",
    "dataset_path=\"dataset/IIW\"\n",
    "files = [\"bedroom\", \"lady\", \"tv\", \"hotel\", \"kitchen\"]\n",
    "methods = [\"Naive\", \"Priors\", \"Combined\"]\n",
    "mse ={\"Naive\":0, \"Priors\":0, \"Combined\":0}\n",
    "psnr ={\"Naive\":0, \"Priors\":0, \"Combined\":0}\n",
    "ncc ={\"Naive\":0, \"Priors\":0, \"Combined\":0}\n",
    "\n",
    "for i in files:\n",
    "    gt = cv2.imread(os.path.join(dataset_path, f'{i}_reflectance.png'))/255.0\n",
    "    for m in methods:\n",
    "        img = cv2.imread(os.path.join(main_path, m, f'{i}_reflectance.png'))/255.0\n",
    "        print(i, m, compute_mse(gt, img))\n",
    "        mse[m] += compute_mse(gt, img)\n",
    "        # psnr[m] += compute_psnr(gt, img)\n",
    "        # ncc[m] += compute_ncc(gt, img)\n",
    "        \n",
    "\n",
    "        "
   ]
  },
  {
   "cell_type": "code",
   "execution_count": 59,
   "metadata": {},
   "outputs": [],
   "source": [
    "mse = {a:mse[a]/5.0 for a in mse }\n",
    "psnr = {a:psnr[a]/5.0 for a in psnr }\n"
   ]
  },
  {
   "cell_type": "code",
   "execution_count": 60,
   "metadata": {},
   "outputs": [
    {
     "data": {
      "text/plain": [
       "{'Naive': 0.013218177968612996,\n",
       " 'Priors': 0.01116051976287078,\n",
       " 'Combined': 0.02108567301601369}"
      ]
     },
     "execution_count": 60,
     "metadata": {},
     "output_type": "execute_result"
    }
   ],
   "source": [
    "mse"
   ]
  },
  {
   "cell_type": "code",
   "execution_count": 61,
   "metadata": {},
   "outputs": [
    {
     "data": {
      "text/plain": [
       "{'Naive': 18.790924119213468,\n",
       " 'Priors': 19.890080650494816,\n",
       " 'Combined': 17.114142132926496}"
      ]
     },
     "execution_count": 61,
     "metadata": {},
     "output_type": "execute_result"
    }
   ],
   "source": [
    "psnr"
   ]
  }
 ],
 "metadata": {
  "kernelspec": {
   "display_name": "iid",
   "language": "python",
   "name": "python3"
  },
  "language_info": {
   "codemirror_mode": {
    "name": "ipython",
    "version": 3
   },
   "file_extension": ".py",
   "mimetype": "text/x-python",
   "name": "python",
   "nbconvert_exporter": "python",
   "pygments_lexer": "ipython3",
   "version": "3.10.14"
  }
 },
 "nbformat": 4,
 "nbformat_minor": 2
}
